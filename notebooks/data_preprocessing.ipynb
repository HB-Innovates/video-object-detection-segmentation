{
 "cells": [
  {
   "cell_type": "code",
   "execution_count": null,
   "metadata": {},
   "outputs": [],
   "source": [
    "# Install required packages\n",
    "%pip install numpy torch torchvision opencv-python matplotlib scikit-learn pandas albumentations PyYAML tqdm seaborn"
   ]
  },
  {
   "cell_type": "markdown",
   "metadata": {},
   "source": [
    "# Data Preprocessing for Video Object Detection & Segmentation\n",
    "\n",
    "This notebook covers the data preprocessing steps required for preparing video data for training the YOLOv5 and U-Net models. It includes techniques such as data augmentation, random cropping, and color jitter."
   ]
  },
  {
   "cell_type": "code",
   "execution_count": null,
   "metadata": {},
   "outputs": [],
   "source": [
    "import os\n",
    "import cv2\n",
    "import numpy as np\n",
    "import random\n",
    "from glob import glob\n",
    "from torchvision import transforms\n",
    "\n",
    "# Define paths\n",
    "raw_data_path = '../data/raw/'\n",
    "processed_data_path = '../data/processed/'\n",
    "annotation_path = '../data/annotations/'\n",
    "\n",
    "# Create directories if they don't exist\n",
    "os.makedirs(processed_data_path, exist_ok=True)\n",
    "\n",
    "# Data augmentation functions\n",
    "def random_crop(image, crop_size):\n",
    "    h, w, _ = image.shape\n",
    "    ch, cw = crop_size\n",
    "    top = random.randint(0, h - ch)\n",
    "    left = random.randint(0, w - cw)\n",
    "    return image[top:top + ch, left:left + cw]\n",
    "\n",
    "def color_jitter(image, brightness=0.2, contrast=0.2, saturation=0.2, hue=0.1):\n",
    "    transform = transforms.ColorJitter(brightness=brightness, contrast=contrast, saturation=saturation, hue=hue)\n",
    "    return transform(image)\n",
    "\n",
    "# Load raw video files\n",
    "video_files = glob(os.path.join(raw_data_path, '*.mp4'))\n",
    "\n",
    "# Process each video file\n",
    "for video_file in video_files:\n",
    "    cap = cv2.VideoCapture(video_file)\n",
    "    frame_count = 0\n",
    "    while cap.isOpened():\n",
    "        ret, frame = cap.read()\n",
    "        if not ret:\n",
    "            break\n",
    "        \n",
    "        # Apply random crop\n",
    "        cropped_frame = random_crop(frame, (256, 256))\n",
    "        \n",
    "        # Apply color jitter\n",
    "        jittered_frame = color_jitter(cropped_frame)\n",
    "        \n",
    "        # Save processed frame\n",
    "        processed_frame_path = os.path.join(processed_data_path, f'frame_{frame_count}.jpg')\n",
    "        cv2.imwrite(processed_frame_path, jittered_frame)\n",
    "        frame_count += 1\n",
    "    cap.release()\n",
    "\n",
    "print('Data preprocessing completed. Processed frames saved to:', processed_data_path)"
   ]
  }
 ],
 "metadata": {
  "kernelspec": {
   "display_name": "Python 3",
   "language": "python",
   "name": "python3"
  },
  "language_info": {
   "codemirror_mode": {
    "name": "ipython",
    "version": 3
   },
   "file_extension": ".py",
   "mimetype": "text/x-python",
   "name": "python",
   "nbconvert_exporter": "python",
   "pygments_lexer": "ipython3",
   "version": "3.8.5"
  }
 },
 "nbformat": 4,
 "nbformat_minor": 4
}
